{
 "cells": [
  {
   "cell_type": "code",
   "execution_count": null,
   "metadata": {},
   "outputs": [],
   "source": [
    "import sys\n",
    "import asyncio\n",
    "sys.path.append('../')\n",
    "sys.path.append('../mirai_onebot')\n",
    "from mirai_onebot.adapters import ReverseWebsocketAdapter\n",
    "from mirai_onebot.event import EventBus\n",
    "\n",
    "bus = EventBus()\n",
    "\n",
    "adapter = ReverseWebsocketAdapter('test', '0.0.0.0', 8120, 10)\n",
    "adapter.register_event_bus(bus)"
   ]
  },
  {
   "cell_type": "markdown",
   "metadata": {},
   "source": [
    "此时使用任意一个OneBot实现（例如我用的是matcha这样的模拟环境）连接，即可在下方收到事件。"
   ]
  },
  {
   "cell_type": "code",
   "execution_count": null,
   "metadata": {},
   "outputs": [],
   "source": [
    "@bus.on('onebot_event')\n",
    "async def onebot_event(data: dict):\n",
    "    print(data)"
   ]
  }
 ],
 "metadata": {
  "kernelspec": {
   "display_name": "yirimiraionebot-UGGYBY_q-py3.10",
   "language": "python",
   "name": "python3"
  },
  "language_info": {
   "codemirror_mode": {
    "name": "ipython",
    "version": 3
   },
   "file_extension": ".py",
   "mimetype": "text/x-python",
   "name": "python",
   "nbconvert_exporter": "python",
   "pygments_lexer": "ipython3",
   "version": "3.10.10"
  }
 },
 "nbformat": 4,
 "nbformat_minor": 2
}
