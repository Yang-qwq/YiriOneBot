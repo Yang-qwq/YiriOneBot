{
 "cells": [
  {
   "cell_type": "code",
   "execution_count": 1,
   "metadata": {},
   "outputs": [],
   "source": [
    "import sys\n",
    "sys.path.append('../')\n",
    "sys.path.append('../mirai_onebot')\n",
    "from mirai_onebot.event import EventBus\n",
    "\n",
    "bus = EventBus()"
   ]
  },
  {
   "cell_type": "code",
   "execution_count": 3,
   "metadata": {},
   "outputs": [],
   "source": [
    "@bus.on('test3')\n",
    "async def test3():\n",
    "    print('test3')\n",
    "\n",
    "@bus.on('test3')\n",
    "async def test31():\n",
    "    print('test31')\n",
    "\n",
    "await bus.emit('test3')"
   ]
  },
  {
   "cell_type": "code",
   "execution_count": 2,
   "metadata": {},
   "outputs": [],
   "source": [
    "@bus.on('win')\n",
    "async def win(player: str):\n",
    "    print(f'{player} 赢了')\n",
    "\n",
    "@bus.on('win')\n",
    "async def winnerSay(player: str):\n",
    "    print(f'{player} 说：小黑子树脂666')\n",
    "\n",
    "@bus.on('lose')\n",
    "async def lose(player: str):\n",
    "    print(f'{player} 输了')\n",
    "\n",
    "@bus.on('lose')\n",
    "async def loserSay(player: str):\n",
    "    print(f'{player} 说：下次一定拉爆你')"
   ]
  },
  {
   "cell_type": "code",
   "execution_count": 3,
   "metadata": {},
   "outputs": [
    {
     "name": "stdout",
     "output_type": "stream",
     "text": [
      "winner 说：小黑子树脂666\n",
      "winner 赢了\n"
     ]
    }
   ],
   "source": [
    "await bus.emit('win', 'winner')"
   ]
  },
  {
   "cell_type": "code",
   "execution_count": 4,
   "metadata": {},
   "outputs": [
    {
     "name": "stdout",
     "output_type": "stream",
     "text": [
      "loser 输了\n",
      "loser 说：下次一定拉爆你\n"
     ]
    }
   ],
   "source": [
    "await bus.emit('lose', 'loser')"
   ]
  }
 ],
 "metadata": {
  "kernelspec": {
   "display_name": "yirimiraionebot-UGGYBY_q-py3.10",
   "language": "python",
   "name": "python3"
  },
  "language_info": {
   "codemirror_mode": {
    "name": "ipython",
    "version": 3
   },
   "file_extension": ".py",
   "mimetype": "text/x-python",
   "name": "python",
   "nbconvert_exporter": "python",
   "pygments_lexer": "ipython3",
   "version": "3.10.10"
  }
 },
 "nbformat": 4,
 "nbformat_minor": 2
}
